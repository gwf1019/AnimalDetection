{
  "cells": [
    {
      "cell_type": "raw",
      "id": "f1742092",
      "metadata": {},
      "source": [
        "---\n",
        "title: \"Animal Detection\"\n",
        "format: html\n",
        "backgroundcolor: coral\n",
        "fontsize: s\n",
        "---"
      ]
    },
    {
      "cell_type": "markdown",
      "id": "1db5a5f5",
      "metadata": {},
      "source": [
        "Presentation by: Chris, Grant, Will\n",
        "\n",
        "![](paws.png){fig-align=\"right\"}\n",
        "\n",
        "## Markdown\n",
        "\n",
        "Markdown is an easy to read and write text format:\n",
        "\n",
        "- It's _plain text_ so works well with version control\n",
        "- It can be **rendered** into HTML, PDF, and more\n",
        "- Learn more at: <https://quarto.org/docs/authoring/>\n",
        "\n",
        "## Our Topic\n",
        "\n",
        "Image detection and classification is important in a multitude of areas, from determining if a dollar bill is real or counterfeit to identifying cells in our body as benign or cancerous to telling apart a cat from a dog.\n",
        "\n",
        "![](animals.png){width=350}\n",
        "\n",
        "## Our Goal\n",
        "\n",
        "We used unstructured data containing hundreds of images from the following 6 animals. We ultimately hope to be able to develop a model which accurately detects and classifies each of these animals.\n",
        "\n",
        "## Code Cell\n",
        "\n",
        "Here is a Python code cell:\n"
      ]
    },
    {
      "cell_type": "code",
      "execution_count": null,
      "id": "f82b54d3",
      "metadata": {
        "vscode": {
          "languageId": "python"
        }
      },
      "outputs": [],
      "source": [
        "import os\n",
        "os.cpu_count()"
      ]
    },
    {
      "cell_type": "markdown",
      "id": "9c5851d5",
      "metadata": {},
      "source": [
        "## Equation\n",
        "\n",
        "Use LaTeX to write equations:\n",
        "\n",
        "$$\n",
        "\\chi' = \\sum_{i=1}^n k_i s_i^2\n",
        "$$"
      ]
    }
  ],
  "metadata": {
    "kernelspec": {
      "display_name": "Python 3 (ipykernel)",
      "language": "python",
      "name": "python3"
    }
  },
  "nbformat": 4,
  "nbformat_minor": 5
}
