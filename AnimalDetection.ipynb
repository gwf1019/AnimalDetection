{
  "cells": [
    {
      "cell_type": "raw",
      "metadata": {},
      "source": [
        "---\n",
        "title: \"Animal Detection\"\n",
        "format: html\n",
        "---"
      ],
      "id": "0a83885a"
    },
    {
      "cell_type": "markdown",
      "metadata": {},
      "source": [
        "## Markdown\n",
        "\n",
        "Markdown is an easy to read and write text format:\n",
        "\n",
        "- It's _plain text_ so works well with version control\n",
        "- It can be **rendered** into HTML, PDF, and more\n",
        "- Learn more at: <https://quarto.org/docs/authoring/>\n",
        "\n",
        "## Background\n",
        "\n",
        "Image classification is the process of assigning a label or class to an input image based on its visual content. It is a fundamental task in the field of computer vision and has a wide range of applications, including object recognition, face detection, self-driving cars, and medical imaging.\n",
        "\n",
        "The importance of image classification stems from its ability to enable machines to understand and interpret the visual world in the same way that humans do. This capability can be used to automate various tasks, such as identifying objects in an image, detecting and diagnosing diseases in medical images, and enabling self-driving cars to navigate safely. Additionally, image classification can be used to improve the accuracy of other computer vision tasks, such as object detection and segmentation.\n",
        "\n",
        "With the increasing amount of visual data being generated and the advancement of deep learning techniques, the field of image classification has seen significant progress in recent years. This has led to the development of highly accurate image classifiers that can be trained on large datasets, and are able to generalize well to new images.\n",
        "![Example of Image Detection](animals.png)\n",
        "\n",
        "## Question\n",
        "\n",
        "Can we build a model that succesfully classifies the images of animals?\n",
        "\n",
        "## Explotory Data Analysis\n",
        "\n",
        "Here is a Python code cell:\n"
      ],
      "id": "983c5984"
    },
    {
      "cell_type": "markdown",
      "metadata": {},
      "source": [
        "## Methods\n",
        "\n",
        "Our own CNN model\n",
        "\n",
        "VGG16 model (CNN)\n",
        "\n",
        "## Evaluation"
      ],
      "id": "a30ec2dd"
    },
    {
      "cell_type": "code",
      "metadata": {},
      "source": [
        "import pandas as pd\n",
        "data = {'Model': ['Team 6 CNN', 'VGG16'],\n",
        "        'Train': ['99%','97.7%'],\n",
        "        'Validation': ['40%','97.7%'],\n",
        "        'Test': ['32.2%','91.2%']\n",
        "        }\n",
        "\n",
        "df=pd.DataFrame(data)\n",
        "\n",
        "print(df.to_markdown())"
      ],
      "id": "91c9c37c",
      "execution_count": null,
      "outputs": []
    },
    {
      "cell_type": "markdown",
      "metadata": {},
      "source": [
        "## Sources\n",
        "\n",
        "Very Deep Convolutional Networks for Large-Scale Image Recognition, K. Simonyan and A. Zisserman. arXiv:1409.1556.\n",
        "https://neurohive.io/en/popular-networks/vgg16/\n",
        "https://arxiv.org/abs/1409.1556\n",
        "https://www.robots.ox.ac.uk/~vgg/research/very_deep/\n",
        "https://github.com/keras-team/keras-applications/blob/master/keras_applications/vgg16.py"
      ],
      "id": "d9856782"
    }
  ],
  "metadata": {
    "kernelspec": {
      "name": "python3",
      "language": "python",
      "display_name": "Python 3 (ipykernel)"
    }
  },
  "nbformat": 4,
  "nbformat_minor": 5
}