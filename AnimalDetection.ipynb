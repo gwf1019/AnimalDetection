{
  "cells": [
    {
      "cell_type": "raw",
      "metadata": {},
      "source": [
        "---\n",
        "title: \"Animal Detection\"\n",
        "format: html\n",
        "---"
      ],
      "id": "7277641a"
    },
    {
      "cell_type": "markdown",
      "metadata": {},
      "source": [
        "## Markdown\n",
        "\n",
        "Markdown is an easy to read and write text format:\n",
        "\n",
        "- It's _plain text_ so works well with version control\n",
        "- It can be **rendered** into HTML, PDF, and more\n",
        "- Learn more at: <https://quarto.org/docs/authoring/>\n",
        "\n",
        "## Background\n",
        "\n",
        "Image detection and classification is important in a multitude of areas, from determining if a dollar bill is real or counterfeit to identifying cells in our body as benign or cancerous to telling apart a cat from a dog.\n",
        "![Example of Image Detection](animals.png)\n",
        "\n",
        "## Research\n",
        "\n",
        "This is our research section.\n",
        "\n",
        "## Code Cell\n",
        "\n",
        "Here is a Python code cell:\n"
      ],
      "id": "8d0be38f"
    },
    {
      "cell_type": "markdown",
      "metadata": {},
      "source": [
        "## Equation\n",
        "\n",
        "Use LaTeX to write equations:\n",
        "\n",
        "$$\n",
        "\\chi' = \\sum_{i=1}^n k_i s_i^2\n",
        "$$"
      ],
      "id": "6db63638"
    }
  ],
  "metadata": {
    "kernelspec": {
      "display_name": "Python 3",
      "language": "python",
      "name": "python3"
    }
  },
  "nbformat": 4,
  "nbformat_minor": 5
}