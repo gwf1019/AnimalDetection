{
 "cells": [
  {
   "cell_type": "raw",
   "id": "3d5e3495",
   "metadata": {},
   "source": [
    "---\n",
    "title: \"Animal Detection\"\n",
    "format: html\n",
    "backgroundcolor: coral\n",
    "execute:\n",
    "    echo: false\n",
    "---"
   ]
  },
  {
   "cell_type": "markdown",
   "id": "3f2215a5",
   "metadata": {},
   "source": [
    "Presentation by: Chris, Grant, Will\n",
    "\n",
    "![](paws.png){fig-align=\"right\"}\n",
    "\n",
    "## Our Topic\n",
    "\n",
    "Image classification is the process of assigning a label or class to an input image based on its visual content. It is a fundamental task in the field of computer vision and has a wide range of applications, including object recognition, face detection, self-driving cars, and medical imaging.\n",
    "\n",
    "The importance of image classification stems from its ability to enable machines to understand and interpret the visual world in the same way that humans do. This capability can be used to automate various tasks, such as identifying objects in an image, detecting and diagnosing diseases in medical images, and enabling self-driving cars to navigate safely. Additionally, image classification can be used to improve the accuracy of other computer vision tasks, such as object detection and segmentation.\n",
    "\n",
    "With the increasing amount of visual data being generated and the advancement of deep learning techniques, the field of image classification has seen significant progress in recent years. This has led to the development of highly accurate image classifiers that can be trained on large datasets, and are able to generalize well to new images.\n",
    "\n",
    "![](animals.png){height=300}\n",
    "\n",
    "## Question\n",
    "\n",
    "Can we build a model that succesfully classifies the images of animals?\n",
    "\n",
    "## Explotory Data Analysis\n",
    "\n",
    "Here is a Python code cell:\n"
   ]
  },
  {
   "cell_type": "markdown",
   "id": "22a92340",
   "metadata": {},
   "source": [
    "## Methods\n",
    "\n",
    "Our own CNN model\n",
    "\n",
    "VGG16 model (CNN)\n",
    "\n",
    "## Evaluation"
   ]
  },
  {
   "cell_type": "code",
   "execution_count": 1,
   "id": "88f597da",
   "metadata": {
    "vscode": {
     "languageId": "python"
    }
   },
   "outputs": [
    {
     "name": "stdout",
     "output_type": "stream",
     "text": [
      "        Model  Train Validation   Test\n",
      "0  Team 6 CNN    99%        40%  32.2%\n",
      "1       VGG16  97.7%      97.7%  91.2%\n"
     ]
    }
   ],
   "source": [
    "import pandas as pd\n",
    "data = {'Model': ['Team 6 CNN', 'VGG16'],\n",
    "        'Train': ['99%','97.7%'],\n",
    "        'Validation': ['40%','97.7%'],\n",
    "        'Test': ['32.2%','91.2%']\n",
    "        }\n",
    "\n",
    "df=pd.DataFrame(data)\n",
    "\n",
    "print(df)"
   ]
  },
  {
   "cell_type": "markdown",
   "id": "3bd9927e",
   "metadata": {},
   "source": [
    "## Sources\n",
    "\n",
    "Very Deep Convolutional Networks for Large-Scale Image Recognition, K. Simonyan and A. Zisserman. arXiv:1409.1556.\n",
    "https://neurohive.io/en/popular-networks/vgg16/\n",
    "https://arxiv.org/abs/1409.1556\n",
    "https://www.robots.ox.ac.uk/~vgg/research/very_deep/\n",
    "https://github.com/keras-team/keras-applications/blob/master/keras_applications/vgg16.py"
   ]
  }
 ],
 "metadata": {
  "kernelspec": {
   "display_name": "Python 3 (ipykernel)",
   "language": "python",
   "name": "python3"
  }
 },
 "nbformat": 4,
 "nbformat_minor": 5
}
