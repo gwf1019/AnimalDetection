{
  "cells": [
    {
      "cell_type": "raw",
      "id": "fa508e46",
      "metadata": {},
      "source": [
        "---\n",
        "title: \"Animal Detection\"\n",
        "format: html\n",
        "backgroundcolor: coral\n",
        "fontsize: s\n",
        "---"
      ]
    },
    {
      "cell_type": "markdown",
      "id": "d14da772",
      "metadata": {},
      "source": [
        "Presentation by: Chris, Grant, Will\n",
        "\n",
        "![](paws.png){fig-align=\"right\"}\n",
        "\n",
        "## Markdown\n",
        "\n",
        "Markdown is an easy to read and write text format:\n",
        "\n",
        "- It's _plain text_ so works well with version control\n",
        "- It can be **rendered** into HTML, PDF, and more\n",
        "- Learn more at: <https://quarto.org/docs/authoring/>\n",
        "\n",
        "## Our Topic\n",
        "\n",
        "Image detection and classification is important in a multitude of areas, from determining if a dollar bill is real or counterfeit to identifying cells in our body as benign or cancerous to telling apart a cat from a dog.\n",
        "\n",
        "![](animals.png){width=350}\n",
        "\n",
        "## Our Goal\n",
        "\n",
        "We used unstructured data containing hundreds of images from the following 6 animals. We ultimately hope to be able to develop a model which accurately detects and classifies each of these animals.\n",
        "\n",
        "## Code Cell\n",
        "\n",
        "Here is a Python code cell:\n"
      ]
    },
    {
      "cell_type": "code",
      "execution_count": null,
      "id": "269ed26c",
      "metadata": {},
      "outputs": [],
      "source": [
        "import os\n",
        "os.cpu_count()"
      ]
    },
    {
      "cell_type": "markdown",
      "id": "118e22fc",
      "metadata": {},
      "source": [
        "## Equation\n",
        "\n",
        "Use LaTeX to write equations:\n",
        "\n",
        "$$\n",
        "\\chi' = \\sum_{i=1}^n k_i s_i^2\n",
        "$$"
      ]
    }
  ],
  "metadata": {
    "kernelspec": {
      "display_name": "Python 3",
      "language": "python",
      "name": "python3"
    },
    "language_info": {
      "name": "python",
      "version": "3.10.2 (v3.10.2:a58ebcc701, Jan 13 2022, 14:50:16) [Clang 13.0.0 (clang-1300.0.29.30)]"
    },
    "vscode": {
      "interpreter": {
        "hash": "aee8b7b246df8f9039afb4144a1f6fd8d2ca17a180786b69acc140d282b71a49"
      }
    }
  },
  "nbformat": 4,
  "nbformat_minor": 5
}
